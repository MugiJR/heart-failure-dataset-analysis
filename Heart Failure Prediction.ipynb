{
 "cells": [
  {
   "cell_type": "code",
   "execution_count": 36,
   "id": "84279a06",
   "metadata": {},
   "outputs": [],
   "source": [
    "import numpy as np\n",
    "import pandas as pd\n",
    "import re\n",
    "import seaborn\n",
    "import matplotlib.pyplot as plt\n",
    "from sklearn.preprocessing import MinMaxScaler\n",
    "from sklearn.model_selection import train_test_split\n",
    "from sklearn.linear_model import LogisticRegression\n",
    "from sklearn.metrics import accuracy_score, confusion_matrix, ConfusionMatrixDisplay\n",
    "from sklearn.ensemble import RandomForestClassifier\n",
    "from sklearn.svm import SVC\n",
    "from sklearn.cluster import KMeans"
   ]
  },
  {
   "cell_type": "code",
   "execution_count": 37,
   "id": "b057b3f6",
   "metadata": {},
   "outputs": [],
   "source": [
    "data = pd.read_csv(\"\heart_failure_clinical_records_dataset.csv\")"
   ]
  },
  {
   "cell_type": "code",
   "execution_count": 38,
   "id": "bbe75160",
   "metadata": {},
   "outputs": [
    {
     "data": {
      "text/html": [
       "<div>\n",
       "<style scoped>\n",
       "    .dataframe tbody tr th:only-of-type {\n",
       "        vertical-align: middle;\n",
       "    }\n",
       "\n",
       "    .dataframe tbody tr th {\n",
       "        vertical-align: top;\n",
       "    }\n",
       "\n",
       "    .dataframe thead th {\n",
       "        text-align: right;\n",
       "    }\n",
       "</style>\n",
       "<table border=\"1\" class=\"dataframe\">\n",
       "  <thead>\n",
       "    <tr style=\"text-align: right;\">\n",
       "      <th></th>\n",
       "      <th>age</th>\n",
       "      <th>anaemia</th>\n",
       "      <th>creatinine_phosphokinase</th>\n",
       "      <th>diabetes</th>\n",
       "      <th>ejection_fraction</th>\n",
       "      <th>high_blood_pressure</th>\n",
       "      <th>platelets</th>\n",
       "      <th>serum_creatinine</th>\n",
       "      <th>serum_sodium</th>\n",
       "      <th>sex</th>\n",
       "      <th>smoking</th>\n",
       "      <th>time</th>\n",
       "      <th>DEATH_EVENT</th>\n",
       "    </tr>\n",
       "  </thead>\n",
       "  <tbody>\n",
       "    <tr>\n",
       "      <th>0</th>\n",
       "      <td>75.0</td>\n",
       "      <td>no</td>\n",
       "      <td>582</td>\n",
       "      <td>0</td>\n",
       "      <td>20</td>\n",
       "      <td>1.0</td>\n",
       "      <td>265000</td>\n",
       "      <td>1.9</td>\n",
       "      <td>130.0</td>\n",
       "      <td>1</td>\n",
       "      <td>0.0</td>\n",
       "      <td>4</td>\n",
       "      <td>1</td>\n",
       "    </tr>\n",
       "    <tr>\n",
       "      <th>1</th>\n",
       "      <td>55.0</td>\n",
       "      <td>no</td>\n",
       "      <td>7861</td>\n",
       "      <td>0</td>\n",
       "      <td>38</td>\n",
       "      <td>0.0</td>\n",
       "      <td>263358.03</td>\n",
       "      <td>1.1</td>\n",
       "      <td>136.0</td>\n",
       "      <td>1</td>\n",
       "      <td>0.0</td>\n",
       "      <td>6</td>\n",
       "      <td>1</td>\n",
       "    </tr>\n",
       "    <tr>\n",
       "      <th>2</th>\n",
       "      <td>65.0</td>\n",
       "      <td>no</td>\n",
       "      <td>146</td>\n",
       "      <td>0</td>\n",
       "      <td>20</td>\n",
       "      <td>0.0</td>\n",
       "      <td>162000</td>\n",
       "      <td>1.3</td>\n",
       "      <td>129.0</td>\n",
       "      <td>1</td>\n",
       "      <td>1.0</td>\n",
       "      <td>7</td>\n",
       "      <td>1</td>\n",
       "    </tr>\n",
       "    <tr>\n",
       "      <th>3</th>\n",
       "      <td>50.0</td>\n",
       "      <td>yes</td>\n",
       "      <td>111</td>\n",
       "      <td>0</td>\n",
       "      <td>20</td>\n",
       "      <td>0.0</td>\n",
       "      <td>210000</td>\n",
       "      <td>1.9</td>\n",
       "      <td>137.0</td>\n",
       "      <td>1</td>\n",
       "      <td>0.0</td>\n",
       "      <td>7</td>\n",
       "      <td>1</td>\n",
       "    </tr>\n",
       "    <tr>\n",
       "      <th>4</th>\n",
       "      <td>65.0</td>\n",
       "      <td>yes</td>\n",
       "      <td>160</td>\n",
       "      <td>1</td>\n",
       "      <td>20</td>\n",
       "      <td>0.0</td>\n",
       "      <td>327000</td>\n",
       "      <td>2.7</td>\n",
       "      <td>116.0</td>\n",
       "      <td>0</td>\n",
       "      <td>0.0</td>\n",
       "      <td>8</td>\n",
       "      <td>1</td>\n",
       "    </tr>\n",
       "  </tbody>\n",
       "</table>\n",
       "</div>"
      ],
      "text/plain": [
       "    age anaemia creatinine_phosphokinase  diabetes ejection_fraction  \\\n",
       "0  75.0      no                      582         0                20   \n",
       "1  55.0      no                     7861         0                38   \n",
       "2  65.0      no                      146         0                20   \n",
       "3  50.0     yes                      111         0                20   \n",
       "4  65.0     yes                      160         1                20   \n",
       "\n",
       "   high_blood_pressure  platelets  serum_creatinine  serum_sodium  sex  \\\n",
       "0                  1.0     265000               1.9         130.0    1   \n",
       "1                  0.0  263358.03               1.1         136.0    1   \n",
       "2                  0.0     162000               1.3         129.0    1   \n",
       "3                  0.0     210000               1.9         137.0    1   \n",
       "4                  0.0     327000               2.7         116.0    0   \n",
       "\n",
       "   smoking time  DEATH_EVENT  \n",
       "0      0.0    4            1  \n",
       "1      0.0    6            1  \n",
       "2      1.0    7            1  \n",
       "3      0.0    7            1  \n",
       "4      0.0    8            1  "
      ]
     },
     "execution_count": 38,
     "metadata": {},
     "output_type": "execute_result"
    }
   ],
   "source": [
    "data.head()"
   ]
  },
  {
   "cell_type": "code",
   "execution_count": 39,
   "id": "cf6795eb",
   "metadata": {},
   "outputs": [
    {
     "name": "stdout",
     "output_type": "stream",
     "text": [
      "<class 'pandas.core.frame.DataFrame'>\n",
      "RangeIndex: 299 entries, 0 to 298\n",
      "Data columns (total 13 columns):\n",
      " #   Column                    Non-Null Count  Dtype  \n",
      "---  ------                    --------------  -----  \n",
      " 0   age                       297 non-null    float64\n",
      " 1   anaemia                   298 non-null    object \n",
      " 2   creatinine_phosphokinase  296 non-null    object \n",
      " 3   diabetes                  299 non-null    int64  \n",
      " 4   ejection_fraction         298 non-null    object \n",
      " 5   high_blood_pressure       298 non-null    float64\n",
      " 6   platelets                 294 non-null    object \n",
      " 7   serum_creatinine          299 non-null    float64\n",
      " 8   serum_sodium              297 non-null    float64\n",
      " 9   sex                       299 non-null    int64  \n",
      " 10  smoking                   297 non-null    float64\n",
      " 11  time                      298 non-null    object \n",
      " 12  DEATH_EVENT               299 non-null    int64  \n",
      "dtypes: float64(5), int64(3), object(5)\n",
      "memory usage: 30.5+ KB\n"
     ]
    }
   ],
   "source": [
    "data.info()"
   ]
  },
  {
   "cell_type": "code",
   "execution_count": 40,
   "id": "3e99875a",
   "metadata": {},
   "outputs": [
    {
     "data": {
      "text/plain": [
       "1    194\n",
       "0    105\n",
       "Name: sex, dtype: int64"
      ]
     },
     "execution_count": 40,
     "metadata": {},
     "output_type": "execute_result"
    }
   ],
   "source": [
    "sex = data['sex']\n",
    "sex.value_counts()"
   ]
  },
  {
   "cell_type": "code",
   "execution_count": 41,
   "id": "081bb7b1",
   "metadata": {},
   "outputs": [
    {
     "data": {
      "text/html": [
       "<div>\n",
       "<style scoped>\n",
       "    .dataframe tbody tr th:only-of-type {\n",
       "        vertical-align: middle;\n",
       "    }\n",
       "\n",
       "    .dataframe tbody tr th {\n",
       "        vertical-align: top;\n",
       "    }\n",
       "\n",
       "    .dataframe thead th {\n",
       "        text-align: right;\n",
       "    }\n",
       "</style>\n",
       "<table border=\"1\" class=\"dataframe\">\n",
       "  <thead>\n",
       "    <tr style=\"text-align: right;\">\n",
       "      <th></th>\n",
       "      <th>age</th>\n",
       "      <th>anaemia</th>\n",
       "      <th>creatinine_phosphokinase</th>\n",
       "      <th>diabetes</th>\n",
       "      <th>ejection_fraction</th>\n",
       "      <th>high_blood_pressure</th>\n",
       "      <th>platelets</th>\n",
       "      <th>serum_creatinine</th>\n",
       "      <th>serum_sodium</th>\n",
       "      <th>sex</th>\n",
       "      <th>smoking</th>\n",
       "      <th>time</th>\n",
       "      <th>DEATH_EVENT</th>\n",
       "    </tr>\n",
       "  </thead>\n",
       "  <tbody>\n",
       "    <tr>\n",
       "      <th>5</th>\n",
       "      <td>90.0</td>\n",
       "      <td>yes</td>\n",
       "      <td>NaN</td>\n",
       "      <td>0</td>\n",
       "      <td>40</td>\n",
       "      <td>1.0</td>\n",
       "      <td>204000</td>\n",
       "      <td>2.10</td>\n",
       "      <td>132.0</td>\n",
       "      <td>1</td>\n",
       "      <td>1.0</td>\n",
       "      <td>8</td>\n",
       "      <td>1</td>\n",
       "    </tr>\n",
       "    <tr>\n",
       "      <th>92</th>\n",
       "      <td>42.0</td>\n",
       "      <td>no</td>\n",
       "      <td>582</td>\n",
       "      <td>0</td>\n",
       "      <td>60</td>\n",
       "      <td>0.0</td>\n",
       "      <td>263358.03</td>\n",
       "      <td>1.18</td>\n",
       "      <td>137.0</td>\n",
       "      <td>0</td>\n",
       "      <td>NaN</td>\n",
       "      <td>82</td>\n",
       "      <td>0</td>\n",
       "    </tr>\n",
       "    <tr>\n",
       "      <th>95</th>\n",
       "      <td>NaN</td>\n",
       "      <td>yes</td>\n",
       "      <td>133</td>\n",
       "      <td>0</td>\n",
       "      <td>60</td>\n",
       "      <td>1.0</td>\n",
       "      <td>219000</td>\n",
       "      <td>1.00</td>\n",
       "      <td>141.0</td>\n",
       "      <td>1</td>\n",
       "      <td>0.0</td>\n",
       "      <td>83</td>\n",
       "      <td>0</td>\n",
       "    </tr>\n",
       "    <tr>\n",
       "      <th>102</th>\n",
       "      <td>80.0</td>\n",
       "      <td>NaN</td>\n",
       "      <td>898</td>\n",
       "      <td>0</td>\n",
       "      <td>25</td>\n",
       "      <td>0.0</td>\n",
       "      <td>149000yes</td>\n",
       "      <td>1.10</td>\n",
       "      <td>144.0</td>\n",
       "      <td>1</td>\n",
       "      <td>1.0</td>\n",
       "      <td>87</td>\n",
       "      <td>0</td>\n",
       "    </tr>\n",
       "    <tr>\n",
       "      <th>115</th>\n",
       "      <td>58.0</td>\n",
       "      <td>yes</td>\n",
       "      <td>NaN</td>\n",
       "      <td>0</td>\n",
       "      <td>40</td>\n",
       "      <td>0.0</td>\n",
       "      <td>164000</td>\n",
       "      <td>1.00</td>\n",
       "      <td>139.0</td>\n",
       "      <td>0</td>\n",
       "      <td>0.0</td>\n",
       "      <td>91</td>\n",
       "      <td>0</td>\n",
       "    </tr>\n",
       "    <tr>\n",
       "      <th>133</th>\n",
       "      <td>63.0</td>\n",
       "      <td>no</td>\n",
       "      <td>193</td>\n",
       "      <td>0</td>\n",
       "      <td>60</td>\n",
       "      <td>1.0</td>\n",
       "      <td>NaN</td>\n",
       "      <td>1.30</td>\n",
       "      <td>145.0</td>\n",
       "      <td>1</td>\n",
       "      <td>NaN</td>\n",
       "      <td>107</td>\n",
       "      <td>0</td>\n",
       "    </tr>\n",
       "    <tr>\n",
       "      <th>136</th>\n",
       "      <td>65.0</td>\n",
       "      <td>yes</td>\n",
       "      <td>59</td>\n",
       "      <td>1</td>\n",
       "      <td>60</td>\n",
       "      <td>0.0</td>\n",
       "      <td>172000</td>\n",
       "      <td>0.90</td>\n",
       "      <td>NaN</td>\n",
       "      <td>0</td>\n",
       "      <td>0.0</td>\n",
       "      <td>107</td>\n",
       "      <td>0</td>\n",
       "    </tr>\n",
       "    <tr>\n",
       "      <th>151</th>\n",
       "      <td>62.0</td>\n",
       "      <td>no</td>\n",
       "      <td>30</td>\n",
       "      <td>1</td>\n",
       "      <td>60</td>\n",
       "      <td>1.0</td>\n",
       "      <td>NaN</td>\n",
       "      <td>0.90</td>\n",
       "      <td>139.0</td>\n",
       "      <td>1</td>\n",
       "      <td>0.0</td>\n",
       "      <td>117</td>\n",
       "      <td>0</td>\n",
       "    </tr>\n",
       "    <tr>\n",
       "      <th>161</th>\n",
       "      <td>NaN</td>\n",
       "      <td>yes</td>\n",
       "      <td>130</td>\n",
       "      <td>0</td>\n",
       "      <td>NaN</td>\n",
       "      <td>0.0</td>\n",
       "      <td>NaN</td>\n",
       "      <td>0.80</td>\n",
       "      <td>139.0</td>\n",
       "      <td>1</td>\n",
       "      <td>1.0</td>\n",
       "      <td>121</td>\n",
       "      <td>0</td>\n",
       "    </tr>\n",
       "    <tr>\n",
       "      <th>181</th>\n",
       "      <td>59.0</td>\n",
       "      <td>yes</td>\n",
       "      <td>176</td>\n",
       "      <td>1</td>\n",
       "      <td>25</td>\n",
       "      <td>NaN</td>\n",
       "      <td>221000</td>\n",
       "      <td>1.00</td>\n",
       "      <td>136.0</td>\n",
       "      <td>1</td>\n",
       "      <td>1.0</td>\n",
       "      <td>150</td>\n",
       "      <td>1</td>\n",
       "    </tr>\n",
       "    <tr>\n",
       "      <th>203</th>\n",
       "      <td>60.0</td>\n",
       "      <td>no</td>\n",
       "      <td>59</td>\n",
       "      <td>0</td>\n",
       "      <td>25</td>\n",
       "      <td>1.0</td>\n",
       "      <td>NaN</td>\n",
       "      <td>3.50</td>\n",
       "      <td>136.0</td>\n",
       "      <td>1</td>\n",
       "      <td>1.0</td>\n",
       "      <td>187</td>\n",
       "      <td>0</td>\n",
       "    </tr>\n",
       "    <tr>\n",
       "      <th>215</th>\n",
       "      <td>73.0</td>\n",
       "      <td>no</td>\n",
       "      <td>582</td>\n",
       "      <td>0</td>\n",
       "      <td>35</td>\n",
       "      <td>1.0</td>\n",
       "      <td>203000</td>\n",
       "      <td>1.30</td>\n",
       "      <td>134.0</td>\n",
       "      <td>1</td>\n",
       "      <td>0.0</td>\n",
       "      <td>NaN</td>\n",
       "      <td>0</td>\n",
       "    </tr>\n",
       "    <tr>\n",
       "      <th>218</th>\n",
       "      <td>68.0</td>\n",
       "      <td>yes</td>\n",
       "      <td>NaN</td>\n",
       "      <td>1</td>\n",
       "      <td>35</td>\n",
       "      <td>0.0</td>\n",
       "      <td>271000</td>\n",
       "      <td>1.10</td>\n",
       "      <td>134.0</td>\n",
       "      <td>1</td>\n",
       "      <td>0.0</td>\n",
       "      <td>197</td>\n",
       "      <td>0</td>\n",
       "    </tr>\n",
       "    <tr>\n",
       "      <th>220</th>\n",
       "      <td>73.0</td>\n",
       "      <td>no</td>\n",
       "      <td>582</td>\n",
       "      <td>0</td>\n",
       "      <td>20</td>\n",
       "      <td>0.0</td>\n",
       "      <td>NaN</td>\n",
       "      <td>1.83</td>\n",
       "      <td>134.0</td>\n",
       "      <td>1</td>\n",
       "      <td>0.0</td>\n",
       "      <td>198</td>\n",
       "      <td>1</td>\n",
       "    </tr>\n",
       "    <tr>\n",
       "      <th>224</th>\n",
       "      <td>58.0</td>\n",
       "      <td>no</td>\n",
       "      <td>582</td>\n",
       "      <td>1</td>\n",
       "      <td>25</td>\n",
       "      <td>0.0</td>\n",
       "      <td>504000</td>\n",
       "      <td>1.00</td>\n",
       "      <td>NaN</td>\n",
       "      <td>1</td>\n",
       "      <td>0.0</td>\n",
       "      <td>205</td>\n",
       "      <td>0</td>\n",
       "    </tr>\n",
       "  </tbody>\n",
       "</table>\n",
       "</div>"
      ],
      "text/plain": [
       "      age anaemia creatinine_phosphokinase  diabetes ejection_fraction  \\\n",
       "5    90.0     yes                      NaN         0                40   \n",
       "92   42.0      no                      582         0                60   \n",
       "95    NaN     yes                      133         0                60   \n",
       "102  80.0     NaN                      898         0                25   \n",
       "115  58.0     yes                      NaN         0                40   \n",
       "133  63.0      no                      193         0                60   \n",
       "136  65.0     yes                       59         1                60   \n",
       "151  62.0      no                       30         1                60   \n",
       "161   NaN     yes                      130         0               NaN   \n",
       "181  59.0     yes                      176         1                25   \n",
       "203  60.0      no                       59         0                25   \n",
       "215  73.0      no                      582         0                35   \n",
       "218  68.0     yes                      NaN         1                35   \n",
       "220  73.0      no                      582         0                20   \n",
       "224  58.0      no                      582         1                25   \n",
       "\n",
       "     high_blood_pressure  platelets  serum_creatinine  serum_sodium  sex  \\\n",
       "5                    1.0     204000              2.10         132.0    1   \n",
       "92                   0.0  263358.03              1.18         137.0    0   \n",
       "95                   1.0     219000              1.00         141.0    1   \n",
       "102                  0.0  149000yes              1.10         144.0    1   \n",
       "115                  0.0     164000              1.00         139.0    0   \n",
       "133                  1.0        NaN              1.30         145.0    1   \n",
       "136                  0.0     172000              0.90           NaN    0   \n",
       "151                  1.0        NaN              0.90         139.0    1   \n",
       "161                  0.0        NaN              0.80         139.0    1   \n",
       "181                  NaN     221000              1.00         136.0    1   \n",
       "203                  1.0        NaN              3.50         136.0    1   \n",
       "215                  1.0     203000              1.30         134.0    1   \n",
       "218                  0.0     271000              1.10         134.0    1   \n",
       "220                  0.0        NaN              1.83         134.0    1   \n",
       "224                  0.0     504000              1.00           NaN    1   \n",
       "\n",
       "     smoking time  DEATH_EVENT  \n",
       "5        1.0    8            1  \n",
       "92       NaN   82            0  \n",
       "95       0.0   83            0  \n",
       "102      1.0   87            0  \n",
       "115      0.0   91            0  \n",
       "133      NaN  107            0  \n",
       "136      0.0  107            0  \n",
       "151      0.0  117            0  \n",
       "161      1.0  121            0  \n",
       "181      1.0  150            1  \n",
       "203      1.0  187            0  \n",
       "215      0.0  NaN            0  \n",
       "218      0.0  197            0  \n",
       "220      0.0  198            1  \n",
       "224      0.0  205            0  "
      ]
     },
     "execution_count": 41,
     "metadata": {},
     "output_type": "execute_result"
    }
   ],
   "source": [
    "data[data.isna().any(axis=1)]"
   ]
  },
  {
   "cell_type": "code",
   "execution_count": 42,
   "id": "b51c3bc8",
   "metadata": {},
   "outputs": [
    {
     "data": {
      "text/html": [
       "<div>\n",
       "<style scoped>\n",
       "    .dataframe tbody tr th:only-of-type {\n",
       "        vertical-align: middle;\n",
       "    }\n",
       "\n",
       "    .dataframe tbody tr th {\n",
       "        vertical-align: top;\n",
       "    }\n",
       "\n",
       "    .dataframe thead th {\n",
       "        text-align: right;\n",
       "    }\n",
       "</style>\n",
       "<table border=\"1\" class=\"dataframe\">\n",
       "  <thead>\n",
       "    <tr style=\"text-align: right;\">\n",
       "      <th></th>\n",
       "      <th>age</th>\n",
       "      <th>diabetes</th>\n",
       "      <th>high_blood_pressure</th>\n",
       "      <th>serum_creatinine</th>\n",
       "      <th>serum_sodium</th>\n",
       "      <th>sex</th>\n",
       "      <th>smoking</th>\n",
       "      <th>DEATH_EVENT</th>\n",
       "    </tr>\n",
       "  </thead>\n",
       "  <tbody>\n",
       "    <tr>\n",
       "      <th>count</th>\n",
       "      <td>297.000000</td>\n",
       "      <td>299.000000</td>\n",
       "      <td>298.000000</td>\n",
       "      <td>299.00000</td>\n",
       "      <td>297.000000</td>\n",
       "      <td>299.000000</td>\n",
       "      <td>297.000000</td>\n",
       "      <td>299.00000</td>\n",
       "    </tr>\n",
       "    <tr>\n",
       "      <th>mean</th>\n",
       "      <td>60.896747</td>\n",
       "      <td>0.418060</td>\n",
       "      <td>0.352349</td>\n",
       "      <td>1.39388</td>\n",
       "      <td>136.619529</td>\n",
       "      <td>0.648829</td>\n",
       "      <td>0.319865</td>\n",
       "      <td>0.32107</td>\n",
       "    </tr>\n",
       "    <tr>\n",
       "      <th>std</th>\n",
       "      <td>11.898083</td>\n",
       "      <td>0.494067</td>\n",
       "      <td>0.478506</td>\n",
       "      <td>1.03451</td>\n",
       "      <td>4.426581</td>\n",
       "      <td>0.478136</td>\n",
       "      <td>0.467211</td>\n",
       "      <td>0.46767</td>\n",
       "    </tr>\n",
       "    <tr>\n",
       "      <th>min</th>\n",
       "      <td>40.000000</td>\n",
       "      <td>0.000000</td>\n",
       "      <td>0.000000</td>\n",
       "      <td>0.50000</td>\n",
       "      <td>113.000000</td>\n",
       "      <td>0.000000</td>\n",
       "      <td>0.000000</td>\n",
       "      <td>0.00000</td>\n",
       "    </tr>\n",
       "    <tr>\n",
       "      <th>25%</th>\n",
       "      <td>51.000000</td>\n",
       "      <td>0.000000</td>\n",
       "      <td>0.000000</td>\n",
       "      <td>0.90000</td>\n",
       "      <td>134.000000</td>\n",
       "      <td>0.000000</td>\n",
       "      <td>0.000000</td>\n",
       "      <td>0.00000</td>\n",
       "    </tr>\n",
       "    <tr>\n",
       "      <th>50%</th>\n",
       "      <td>60.000000</td>\n",
       "      <td>0.000000</td>\n",
       "      <td>0.000000</td>\n",
       "      <td>1.10000</td>\n",
       "      <td>137.000000</td>\n",
       "      <td>1.000000</td>\n",
       "      <td>0.000000</td>\n",
       "      <td>0.00000</td>\n",
       "    </tr>\n",
       "    <tr>\n",
       "      <th>75%</th>\n",
       "      <td>70.000000</td>\n",
       "      <td>1.000000</td>\n",
       "      <td>1.000000</td>\n",
       "      <td>1.40000</td>\n",
       "      <td>140.000000</td>\n",
       "      <td>1.000000</td>\n",
       "      <td>1.000000</td>\n",
       "      <td>1.00000</td>\n",
       "    </tr>\n",
       "    <tr>\n",
       "      <th>max</th>\n",
       "      <td>95.000000</td>\n",
       "      <td>1.000000</td>\n",
       "      <td>1.000000</td>\n",
       "      <td>9.40000</td>\n",
       "      <td>148.000000</td>\n",
       "      <td>1.000000</td>\n",
       "      <td>1.000000</td>\n",
       "      <td>1.00000</td>\n",
       "    </tr>\n",
       "  </tbody>\n",
       "</table>\n",
       "</div>"
      ],
      "text/plain": [
       "              age    diabetes  high_blood_pressure  serum_creatinine  \\\n",
       "count  297.000000  299.000000           298.000000         299.00000   \n",
       "mean    60.896747    0.418060             0.352349           1.39388   \n",
       "std     11.898083    0.494067             0.478506           1.03451   \n",
       "min     40.000000    0.000000             0.000000           0.50000   \n",
       "25%     51.000000    0.000000             0.000000           0.90000   \n",
       "50%     60.000000    0.000000             0.000000           1.10000   \n",
       "75%     70.000000    1.000000             1.000000           1.40000   \n",
       "max     95.000000    1.000000             1.000000           9.40000   \n",
       "\n",
       "       serum_sodium         sex     smoking  DEATH_EVENT  \n",
       "count    297.000000  299.000000  297.000000    299.00000  \n",
       "mean     136.619529    0.648829    0.319865      0.32107  \n",
       "std        4.426581    0.478136    0.467211      0.46767  \n",
       "min      113.000000    0.000000    0.000000      0.00000  \n",
       "25%      134.000000    0.000000    0.000000      0.00000  \n",
       "50%      137.000000    1.000000    0.000000      0.00000  \n",
       "75%      140.000000    1.000000    1.000000      1.00000  \n",
       "max      148.000000    1.000000    1.000000      1.00000  "
      ]
     },
     "execution_count": 42,
     "metadata": {},
     "output_type": "execute_result"
    }
   ],
   "source": [
    "data.describe()"
   ]
  },
  {
   "cell_type": "code",
   "execution_count": 43,
   "id": "b99b08a7",
   "metadata": {},
   "outputs": [
    {
     "data": {
      "text/plain": [
       "age                         float64\n",
       "anaemia                      object\n",
       "creatinine_phosphokinase     object\n",
       "diabetes                      int64\n",
       "ejection_fraction            object\n",
       "high_blood_pressure         float64\n",
       "platelets                    object\n",
       "serum_creatinine            float64\n",
       "serum_sodium                float64\n",
       "sex                           int64\n",
       "smoking                     float64\n",
       "time                         object\n",
       "DEATH_EVENT                   int64\n",
       "dtype: object"
      ]
     },
     "execution_count": 43,
     "metadata": {},
     "output_type": "execute_result"
    }
   ],
   "source": [
    "data.dtypes"
   ]
  },
  {
   "cell_type": "code",
   "execution_count": 44,
   "id": "3d1ca6b5",
   "metadata": {},
   "outputs": [
    {
     "data": {
      "text/html": [
       "<div>\n",
       "<style scoped>\n",
       "    .dataframe tbody tr th:only-of-type {\n",
       "        vertical-align: middle;\n",
       "    }\n",
       "\n",
       "    .dataframe tbody tr th {\n",
       "        vertical-align: top;\n",
       "    }\n",
       "\n",
       "    .dataframe thead th {\n",
       "        text-align: right;\n",
       "    }\n",
       "</style>\n",
       "<table border=\"1\" class=\"dataframe\">\n",
       "  <thead>\n",
       "    <tr style=\"text-align: right;\">\n",
       "      <th></th>\n",
       "      <th>anaemia</th>\n",
       "    </tr>\n",
       "  </thead>\n",
       "  <tbody>\n",
       "    <tr>\n",
       "      <th>no</th>\n",
       "      <td>159</td>\n",
       "    </tr>\n",
       "    <tr>\n",
       "      <th>yes</th>\n",
       "      <td>126</td>\n",
       "    </tr>\n",
       "    <tr>\n",
       "      <th>no</th>\n",
       "      <td>9</td>\n",
       "    </tr>\n",
       "    <tr>\n",
       "      <th>yes</th>\n",
       "      <td>2</td>\n",
       "    </tr>\n",
       "    <tr>\n",
       "      <th>no_%</th>\n",
       "      <td>1</td>\n",
       "    </tr>\n",
       "    <tr>\n",
       "      <th>no678</th>\n",
       "      <td>1</td>\n",
       "    </tr>\n",
       "  </tbody>\n",
       "</table>\n",
       "</div>"
      ],
      "text/plain": [
       "       anaemia\n",
       "no         159\n",
       "yes        126\n",
       "no           9\n",
       "yes          2\n",
       "no_%         1\n",
       "no678        1"
      ]
     },
     "execution_count": 44,
     "metadata": {},
     "output_type": "execute_result"
    }
   ],
   "source": [
    "pd.DataFrame(data.anaemia.value_counts())"
   ]
  },
  {
   "cell_type": "code",
   "execution_count": 45,
   "id": "f1b4f8f3",
   "metadata": {},
   "outputs": [],
   "source": [
    "# CALCULATE MEAN FOR AGE\n",
    "age_mean = data[\"age\"].mean()\n",
    "#REPLACE AGE MEAN WITH NULL VALUES IN AGE COLUMN\n",
    "data[\"age\"].fillna(age_mean,inplace=True)\n",
    "data[\"age\"] = data[\"age\"].astype(int)\n"
   ]
  },
  {
   "cell_type": "code",
   "execution_count": 46,
   "id": "1f7da6ca",
   "metadata": {},
   "outputs": [],
   "source": [
    "#Replace anaemia values to 0's {yes} and 1's {no}\n",
    "data[\"anaemia\"] = data[\"anaemia\"] .apply(lambda x: 0 if x == 'yes' or x == 'yes '  else 1)"
   ]
  },
  {
   "cell_type": "code",
   "execution_count": 47,
   "id": "7f9a9587",
   "metadata": {},
   "outputs": [],
   "source": [
    "# CALCULATE MEAN FOR Anaemia\n",
    "anaemia_mean = data[\"anaemia\"].mean()\n",
    "#REPLACE Anaemia MEAN WITH NULL VALUES IN Anaemia COLUMN\n",
    "data[\"anaemia\"].fillna(age_mean,inplace=True)\n",
    "data[\"anaemia\"] = data[\"anaemia\"].astype(int)"
   ]
  },
  {
   "cell_type": "code",
   "execution_count": 48,
   "id": "cf423c37",
   "metadata": {},
   "outputs": [],
   "source": [
    "# FUNCTION TO VALIDATE WHETHER THE STRING 'str_num' CONTAINS ONLY NUMERIC VALUE\n",
    "\n",
    "pattern = \"^[0-9]*$\"\n",
    "\n",
    "def is_numeric_string(str_num):\n",
    "    if str_num is np.nan or str_num == '' or len(str_num) == 0:\n",
    "        return False\n",
    "    elif re.match(pattern,str_num):\n",
    "        return True\n",
    "    else:\n",
    "        return False"
   ]
  },
  {
   "cell_type": "code",
   "execution_count": 49,
   "id": "59fd97e1",
   "metadata": {},
   "outputs": [],
   "source": [
    "# creatinine_phosphokinase contains invalid data. \n",
    "if data.dtypes[\"creatinine_phosphokinase\"] != \"int64\":\n",
    "    data[\"creatinine_phosphokinase\"] = data[\"creatinine_phosphokinase\"].apply(lambda x: int(x) if is_numeric_string(x) else 0)"
   ]
  },
  {
   "cell_type": "code",
   "execution_count": 50,
   "id": "f685e9dd",
   "metadata": {},
   "outputs": [],
   "source": [
    "creatinine_mean = data[\"creatinine_phosphokinase\"].mean()\n",
    "data[\"creatinine_phosphokinase\"].fillna(creatinine_mean,inplace=True)\n",
    "data[\"creatinine_phosphokinase\"] = data[\"creatinine_phosphokinase\"].astype(int)"
   ]
  },
  {
   "cell_type": "code",
   "execution_count": 51,
   "id": "1b7b12be",
   "metadata": {},
   "outputs": [],
   "source": [
    "# ejection_fraction contains invalid data. \n",
    "if data.dtypes[\"ejection_fraction\"] != \"int64\":\n",
    "    data[\"ejection_fraction\"] = data[\"ejection_fraction\"].apply(lambda x: int(x) if is_numeric_string(x) else 0)"
   ]
  },
  {
   "cell_type": "code",
   "execution_count": 52,
   "id": "1bc87478",
   "metadata": {},
   "outputs": [],
   "source": [
    "ejection_mean = data[\"ejection_fraction\"].mean()\n",
    "data[\"ejection_fraction\"].fillna(ejection_mean,inplace=True)\n",
    "data[\"ejection_fraction\"] = data[\"ejection_fraction\"].apply(lambda x: ejection_mean if x == 0 else x)\n",
    "data[\"ejection_fraction\"] = data[\"ejection_fraction\"].astype(int)"
   ]
  },
  {
   "cell_type": "code",
   "execution_count": 53,
   "id": "c4c59bed",
   "metadata": {},
   "outputs": [],
   "source": [
    "bp_mean = data[\"high_blood_pressure\"].mean()\n",
    "data[\"high_blood_pressure\"].fillna(bp_mean,inplace=True)\n",
    "data[\"high_blood_pressure\"] = data[\"high_blood_pressure\"].astype(int)"
   ]
  },
  {
   "cell_type": "code",
   "execution_count": 54,
   "id": "3589c7a2",
   "metadata": {},
   "outputs": [],
   "source": [
    "# platelets contains invalid data. \n",
    "if data.dtypes[\"platelets\"] != \"int64\" and data.dtypes[\"platelets\"] != \"float64\":\n",
    "    data[\"platelets\"] = data[\"platelets\"].apply(lambda x: int(x) if is_numeric_string(x) else 0)"
   ]
  },
  {
   "cell_type": "code",
   "execution_count": 55,
   "id": "212634f3",
   "metadata": {},
   "outputs": [],
   "source": [
    " data[\"platelets\"] =  data[\"platelets\"].astype(int)"
   ]
  },
  {
   "cell_type": "code",
   "execution_count": 56,
   "id": "5c9ae6e0",
   "metadata": {},
   "outputs": [],
   "source": [
    "platelet_mean = data[\"platelets\"].mean()\n",
    "data[\"platelets\"] = data[\"platelets\"].apply(lambda x: platelet_mean if x == 0 else 0)\n",
    "data[\"platelets\"] = data[\"platelets\"].astype(int)"
   ]
  },
  {
   "cell_type": "code",
   "execution_count": 57,
   "id": "d0a2f562",
   "metadata": {},
   "outputs": [],
   "source": [
    "sodium_mean = data[\"serum_sodium\"].mean()\n",
    "data[\"serum_sodium\"].fillna(sodium_mean,inplace=True)\n",
    "data[\"serum_sodium\"] = data[\"serum_sodium\"].astype(int)"
   ]
  },
  {
   "cell_type": "code",
   "execution_count": 58,
   "id": "19751b87",
   "metadata": {},
   "outputs": [],
   "source": [
    "smoking_mean = data[\"smoking\"].mean()\n",
    "data[\"smoking\"].fillna(smoking_mean,inplace=True)\n",
    "data[\"serum_sodium\"] = data[\"serum_sodium\"].astype(int)"
   ]
  },
  {
   "cell_type": "code",
   "execution_count": 59,
   "id": "f8f30afd",
   "metadata": {},
   "outputs": [],
   "source": [
    "# time contains invalid data. \n",
    "if data.dtypes[\"time\"] != \"int64\" and data.dtypes[\"time\"] != \"float64\":\n",
    "    data[\"time\"] = data[\"time\"].apply(lambda x: int(x) if is_numeric_string(x) else 0)"
   ]
  },
  {
   "cell_type": "code",
   "execution_count": 60,
   "id": "5b92321d",
   "metadata": {},
   "outputs": [],
   "source": [
    "time_mean = data[\"time\"].mean()\n",
    "data[\"time\"].fillna(time_mean,inplace=True)\n",
    "data[\"time\"] = data[\"time\"].apply(lambda x: time_mean if x == 0 else x)\n",
    "data[\"time\"] = data[\"time\"].astype(int)"
   ]
  },
  {
   "cell_type": "markdown",
   "id": "aa0ff3ea",
   "metadata": {},
   "source": [
    "### Death Event Distribution"
   ]
  },
  {
   "cell_type": "code",
   "execution_count": 61,
   "id": "58e6f259",
   "metadata": {},
   "outputs": [
    {
     "data": {
      "application/vnd.plotly.v1+json": {
       "config": {
        "plotlyServerURL": "https://plot.ly"
       },
       "data": [
        {
         "domain": {
          "x": [
           0,
           1
          ],
          "y": [
           0,
           1
          ]
         },
         "hovertemplate": "DEATH_EVENT=%{label}<extra></extra>",
         "labels": [
          1,
          1,
          1,
          1,
          1,
          1,
          1,
          1,
          1,
          1,
          1,
          1,
          1,
          1,
          0,
          1,
          1,
          1,
          1,
          1,
          0,
          1,
          1,
          0,
          1,
          1,
          1,
          1,
          1,
          1,
          1,
          1,
          1,
          0,
          1,
          1,
          1,
          1,
          0,
          1,
          1,
          1,
          1,
          0,
          1,
          1,
          1,
          1,
          1,
          1,
          1,
          1,
          1,
          1,
          1,
          1,
          0,
          0,
          1,
          1,
          1,
          1,
          0,
          1,
          0,
          1,
          1,
          1,
          1,
          1,
          0,
          0,
          1,
          0,
          1,
          1,
          0,
          0,
          0,
          0,
          0,
          0,
          1,
          0,
          1,
          0,
          0,
          0,
          0,
          0,
          0,
          0,
          0,
          1,
          0,
          0,
          0,
          0,
          0,
          0,
          0,
          0,
          0,
          0,
          0,
          1,
          0,
          0,
          0,
          0,
          1,
          0,
          0,
          1,
          0,
          0,
          0,
          0,
          0,
          1,
          0,
          0,
          0,
          0,
          1,
          0,
          1,
          0,
          0,
          0,
          0,
          0,
          0,
          0,
          0,
          0,
          0,
          0,
          0,
          0,
          1,
          0,
          0,
          0,
          1,
          0,
          0,
          0,
          1,
          0,
          1,
          0,
          0,
          0,
          0,
          0,
          0,
          0,
          0,
          0,
          0,
          0,
          0,
          1,
          1,
          1,
          0,
          1,
          0,
          0,
          0,
          0,
          0,
          0,
          0,
          0,
          0,
          0,
          0,
          0,
          0,
          1,
          1,
          1,
          1,
          1,
          1,
          1,
          0,
          0,
          0,
          0,
          0,
          0,
          1,
          1,
          0,
          0,
          0,
          0,
          0,
          0,
          0,
          0,
          0,
          0,
          0,
          0,
          0,
          0,
          0,
          0,
          0,
          1,
          0,
          0,
          0,
          1,
          0,
          0,
          1,
          0,
          0,
          0,
          0,
          0,
          0,
          0,
          0,
          0,
          1,
          0,
          0,
          0,
          0,
          0,
          0,
          0,
          0,
          0,
          0,
          0,
          0,
          0,
          0,
          0,
          1,
          0,
          0,
          0,
          0,
          0,
          0,
          0,
          0,
          0,
          0,
          0,
          0,
          0,
          0,
          0,
          1,
          0,
          0,
          0,
          1,
          0,
          0,
          0,
          0,
          0,
          0,
          0,
          0,
          0,
          0,
          0,
          0,
          0,
          0,
          0,
          0,
          0,
          0,
          0,
          0,
          0,
          0,
          0,
          0,
          0,
          0,
          0,
          0,
          0,
          0,
          0,
          0
         ],
         "legendgroup": "",
         "name": "",
         "showlegend": true,
         "type": "pie"
        }
       ],
       "layout": {
        "height": 400,
        "legend": {
         "tracegroupgap": 0
        },
        "template": {
         "data": {
          "bar": [
           {
            "error_x": {
             "color": "#2a3f5f"
            },
            "error_y": {
             "color": "#2a3f5f"
            },
            "marker": {
             "line": {
              "color": "#E5ECF6",
              "width": 0.5
             },
             "pattern": {
              "fillmode": "overlay",
              "size": 10,
              "solidity": 0.2
             }
            },
            "type": "bar"
           }
          ],
          "barpolar": [
           {
            "marker": {
             "line": {
              "color": "#E5ECF6",
              "width": 0.5
             },
             "pattern": {
              "fillmode": "overlay",
              "size": 10,
              "solidity": 0.2
             }
            },
            "type": "barpolar"
           }
          ],
          "carpet": [
           {
            "aaxis": {
             "endlinecolor": "#2a3f5f",
             "gridcolor": "white",
             "linecolor": "white",
             "minorgridcolor": "white",
             "startlinecolor": "#2a3f5f"
            },
            "baxis": {
             "endlinecolor": "#2a3f5f",
             "gridcolor": "white",
             "linecolor": "white",
             "minorgridcolor": "white",
             "startlinecolor": "#2a3f5f"
            },
            "type": "carpet"
           }
          ],
          "choropleth": [
           {
            "colorbar": {
             "outlinewidth": 0,
             "ticks": ""
            },
            "type": "choropleth"
           }
          ],
          "contour": [
           {
            "colorbar": {
             "outlinewidth": 0,
             "ticks": ""
            },
            "colorscale": [
             [
              0,
              "#0d0887"
             ],
             [
              0.1111111111111111,
              "#46039f"
             ],
             [
              0.2222222222222222,
              "#7201a8"
             ],
             [
              0.3333333333333333,
              "#9c179e"
             ],
             [
              0.4444444444444444,
              "#bd3786"
             ],
             [
              0.5555555555555556,
              "#d8576b"
             ],
             [
              0.6666666666666666,
              "#ed7953"
             ],
             [
              0.7777777777777778,
              "#fb9f3a"
             ],
             [
              0.8888888888888888,
              "#fdca26"
             ],
             [
              1,
              "#f0f921"
             ]
            ],
            "type": "contour"
           }
          ],
          "contourcarpet": [
           {
            "colorbar": {
             "outlinewidth": 0,
             "ticks": ""
            },
            "type": "contourcarpet"
           }
          ],
          "heatmap": [
           {
            "colorbar": {
             "outlinewidth": 0,
             "ticks": ""
            },
            "colorscale": [
             [
              0,
              "#0d0887"
             ],
             [
              0.1111111111111111,
              "#46039f"
             ],
             [
              0.2222222222222222,
              "#7201a8"
             ],
             [
              0.3333333333333333,
              "#9c179e"
             ],
             [
              0.4444444444444444,
              "#bd3786"
             ],
             [
              0.5555555555555556,
              "#d8576b"
             ],
             [
              0.6666666666666666,
              "#ed7953"
             ],
             [
              0.7777777777777778,
              "#fb9f3a"
             ],
             [
              0.8888888888888888,
              "#fdca26"
             ],
             [
              1,
              "#f0f921"
             ]
            ],
            "type": "heatmap"
           }
          ],
          "heatmapgl": [
           {
            "colorbar": {
             "outlinewidth": 0,
             "ticks": ""
            },
            "colorscale": [
             [
              0,
              "#0d0887"
             ],
             [
              0.1111111111111111,
              "#46039f"
             ],
             [
              0.2222222222222222,
              "#7201a8"
             ],
             [
              0.3333333333333333,
              "#9c179e"
             ],
             [
              0.4444444444444444,
              "#bd3786"
             ],
             [
              0.5555555555555556,
              "#d8576b"
             ],
             [
              0.6666666666666666,
              "#ed7953"
             ],
             [
              0.7777777777777778,
              "#fb9f3a"
             ],
             [
              0.8888888888888888,
              "#fdca26"
             ],
             [
              1,
              "#f0f921"
             ]
            ],
            "type": "heatmapgl"
           }
          ],
          "histogram": [
           {
            "marker": {
             "pattern": {
              "fillmode": "overlay",
              "size": 10,
              "solidity": 0.2
             }
            },
            "type": "histogram"
           }
          ],
          "histogram2d": [
           {
            "colorbar": {
             "outlinewidth": 0,
             "ticks": ""
            },
            "colorscale": [
             [
              0,
              "#0d0887"
             ],
             [
              0.1111111111111111,
              "#46039f"
             ],
             [
              0.2222222222222222,
              "#7201a8"
             ],
             [
              0.3333333333333333,
              "#9c179e"
             ],
             [
              0.4444444444444444,
              "#bd3786"
             ],
             [
              0.5555555555555556,
              "#d8576b"
             ],
             [
              0.6666666666666666,
              "#ed7953"
             ],
             [
              0.7777777777777778,
              "#fb9f3a"
             ],
             [
              0.8888888888888888,
              "#fdca26"
             ],
             [
              1,
              "#f0f921"
             ]
            ],
            "type": "histogram2d"
           }
          ],
          "histogram2dcontour": [
           {
            "colorbar": {
             "outlinewidth": 0,
             "ticks": ""
            },
            "colorscale": [
             [
              0,
              "#0d0887"
             ],
             [
              0.1111111111111111,
              "#46039f"
             ],
             [
              0.2222222222222222,
              "#7201a8"
             ],
             [
              0.3333333333333333,
              "#9c179e"
             ],
             [
              0.4444444444444444,
              "#bd3786"
             ],
             [
              0.5555555555555556,
              "#d8576b"
             ],
             [
              0.6666666666666666,
              "#ed7953"
             ],
             [
              0.7777777777777778,
              "#fb9f3a"
             ],
             [
              0.8888888888888888,
              "#fdca26"
             ],
             [
              1,
              "#f0f921"
             ]
            ],
            "type": "histogram2dcontour"
           }
          ],
          "mesh3d": [
           {
            "colorbar": {
             "outlinewidth": 0,
             "ticks": ""
            },
            "type": "mesh3d"
           }
          ],
          "parcoords": [
           {
            "line": {
             "colorbar": {
              "outlinewidth": 0,
              "ticks": ""
             }
            },
            "type": "parcoords"
           }
          ],
          "pie": [
           {
            "automargin": true,
            "type": "pie"
           }
          ],
          "scatter": [
           {
            "marker": {
             "colorbar": {
              "outlinewidth": 0,
              "ticks": ""
             }
            },
            "type": "scatter"
           }
          ],
          "scatter3d": [
           {
            "line": {
             "colorbar": {
              "outlinewidth": 0,
              "ticks": ""
             }
            },
            "marker": {
             "colorbar": {
              "outlinewidth": 0,
              "ticks": ""
             }
            },
            "type": "scatter3d"
           }
          ],
          "scattercarpet": [
           {
            "marker": {
             "colorbar": {
              "outlinewidth": 0,
              "ticks": ""
             }
            },
            "type": "scattercarpet"
           }
          ],
          "scattergeo": [
           {
            "marker": {
             "colorbar": {
              "outlinewidth": 0,
              "ticks": ""
             }
            },
            "type": "scattergeo"
           }
          ],
          "scattergl": [
           {
            "marker": {
             "colorbar": {
              "outlinewidth": 0,
              "ticks": ""
             }
            },
            "type": "scattergl"
           }
          ],
          "scattermapbox": [
           {
            "marker": {
             "colorbar": {
              "outlinewidth": 0,
              "ticks": ""
             }
            },
            "type": "scattermapbox"
           }
          ],
          "scatterpolar": [
           {
            "marker": {
             "colorbar": {
              "outlinewidth": 0,
              "ticks": ""
             }
            },
            "type": "scatterpolar"
           }
          ],
          "scatterpolargl": [
           {
            "marker": {
             "colorbar": {
              "outlinewidth": 0,
              "ticks": ""
             }
            },
            "type": "scatterpolargl"
           }
          ],
          "scatterternary": [
           {
            "marker": {
             "colorbar": {
              "outlinewidth": 0,
              "ticks": ""
             }
            },
            "type": "scatterternary"
           }
          ],
          "surface": [
           {
            "colorbar": {
             "outlinewidth": 0,
             "ticks": ""
            },
            "colorscale": [
             [
              0,
              "#0d0887"
             ],
             [
              0.1111111111111111,
              "#46039f"
             ],
             [
              0.2222222222222222,
              "#7201a8"
             ],
             [
              0.3333333333333333,
              "#9c179e"
             ],
             [
              0.4444444444444444,
              "#bd3786"
             ],
             [
              0.5555555555555556,
              "#d8576b"
             ],
             [
              0.6666666666666666,
              "#ed7953"
             ],
             [
              0.7777777777777778,
              "#fb9f3a"
             ],
             [
              0.8888888888888888,
              "#fdca26"
             ],
             [
              1,
              "#f0f921"
             ]
            ],
            "type": "surface"
           }
          ],
          "table": [
           {
            "cells": {
             "fill": {
              "color": "#EBF0F8"
             },
             "line": {
              "color": "white"
             }
            },
            "header": {
             "fill": {
              "color": "#C8D4E3"
             },
             "line": {
              "color": "white"
             }
            },
            "type": "table"
           }
          ]
         },
         "layout": {
          "annotationdefaults": {
           "arrowcolor": "#2a3f5f",
           "arrowhead": 0,
           "arrowwidth": 1
          },
          "autotypenumbers": "strict",
          "coloraxis": {
           "colorbar": {
            "outlinewidth": 0,
            "ticks": ""
           }
          },
          "colorscale": {
           "diverging": [
            [
             0,
             "#8e0152"
            ],
            [
             0.1,
             "#c51b7d"
            ],
            [
             0.2,
             "#de77ae"
            ],
            [
             0.3,
             "#f1b6da"
            ],
            [
             0.4,
             "#fde0ef"
            ],
            [
             0.5,
             "#f7f7f7"
            ],
            [
             0.6,
             "#e6f5d0"
            ],
            [
             0.7,
             "#b8e186"
            ],
            [
             0.8,
             "#7fbc41"
            ],
            [
             0.9,
             "#4d9221"
            ],
            [
             1,
             "#276419"
            ]
           ],
           "sequential": [
            [
             0,
             "#0d0887"
            ],
            [
             0.1111111111111111,
             "#46039f"
            ],
            [
             0.2222222222222222,
             "#7201a8"
            ],
            [
             0.3333333333333333,
             "#9c179e"
            ],
            [
             0.4444444444444444,
             "#bd3786"
            ],
            [
             0.5555555555555556,
             "#d8576b"
            ],
            [
             0.6666666666666666,
             "#ed7953"
            ],
            [
             0.7777777777777778,
             "#fb9f3a"
            ],
            [
             0.8888888888888888,
             "#fdca26"
            ],
            [
             1,
             "#f0f921"
            ]
           ],
           "sequentialminus": [
            [
             0,
             "#0d0887"
            ],
            [
             0.1111111111111111,
             "#46039f"
            ],
            [
             0.2222222222222222,
             "#7201a8"
            ],
            [
             0.3333333333333333,
             "#9c179e"
            ],
            [
             0.4444444444444444,
             "#bd3786"
            ],
            [
             0.5555555555555556,
             "#d8576b"
            ],
            [
             0.6666666666666666,
             "#ed7953"
            ],
            [
             0.7777777777777778,
             "#fb9f3a"
            ],
            [
             0.8888888888888888,
             "#fdca26"
            ],
            [
             1,
             "#f0f921"
            ]
           ]
          },
          "colorway": [
           "#636efa",
           "#EF553B",
           "#00cc96",
           "#ab63fa",
           "#FFA15A",
           "#19d3f3",
           "#FF6692",
           "#B6E880",
           "#FF97FF",
           "#FECB52"
          ],
          "font": {
           "color": "#2a3f5f"
          },
          "geo": {
           "bgcolor": "white",
           "lakecolor": "white",
           "landcolor": "#E5ECF6",
           "showlakes": true,
           "showland": true,
           "subunitcolor": "white"
          },
          "hoverlabel": {
           "align": "left"
          },
          "hovermode": "closest",
          "mapbox": {
           "style": "light"
          },
          "paper_bgcolor": "white",
          "plot_bgcolor": "#E5ECF6",
          "polar": {
           "angularaxis": {
            "gridcolor": "white",
            "linecolor": "white",
            "ticks": ""
           },
           "bgcolor": "#E5ECF6",
           "radialaxis": {
            "gridcolor": "white",
            "linecolor": "white",
            "ticks": ""
           }
          },
          "scene": {
           "xaxis": {
            "backgroundcolor": "#E5ECF6",
            "gridcolor": "white",
            "gridwidth": 2,
            "linecolor": "white",
            "showbackground": true,
            "ticks": "",
            "zerolinecolor": "white"
           },
           "yaxis": {
            "backgroundcolor": "#E5ECF6",
            "gridcolor": "white",
            "gridwidth": 2,
            "linecolor": "white",
            "showbackground": true,
            "ticks": "",
            "zerolinecolor": "white"
           },
           "zaxis": {
            "backgroundcolor": "#E5ECF6",
            "gridcolor": "white",
            "gridwidth": 2,
            "linecolor": "white",
            "showbackground": true,
            "ticks": "",
            "zerolinecolor": "white"
           }
          },
          "shapedefaults": {
           "line": {
            "color": "#2a3f5f"
           }
          },
          "ternary": {
           "aaxis": {
            "gridcolor": "white",
            "linecolor": "white",
            "ticks": ""
           },
           "baxis": {
            "gridcolor": "white",
            "linecolor": "white",
            "ticks": ""
           },
           "bgcolor": "#E5ECF6",
           "caxis": {
            "gridcolor": "white",
            "linecolor": "white",
            "ticks": ""
           }
          },
          "title": {
           "x": 0.05
          },
          "xaxis": {
           "automargin": true,
           "gridcolor": "white",
           "linecolor": "white",
           "ticks": "",
           "title": {
            "standoff": 15
           },
           "zerolinecolor": "white",
           "zerolinewidth": 2
          },
          "yaxis": {
           "automargin": true,
           "gridcolor": "white",
           "linecolor": "white",
           "ticks": "",
           "title": {
            "standoff": 15
           },
           "zerolinecolor": "white",
           "zerolinewidth": 2
          }
         }
        },
        "title": {
         "text": "Distribution of Patient Death Events"
        },
        "width": 600
       }
      },
      "text/html": [
       "<div>                            <div id=\"37774668-2a1d-41fe-bf5e-e80de0af0be5\" class=\"plotly-graph-div\" style=\"height:400px; width:600px;\"></div>            <script type=\"text/javascript\">                require([\"plotly\"], function(Plotly) {                    window.PLOTLYENV=window.PLOTLYENV || {};                                    if (document.getElementById(\"37774668-2a1d-41fe-bf5e-e80de0af0be5\")) {                    Plotly.newPlot(                        \"37774668-2a1d-41fe-bf5e-e80de0af0be5\",                        [{\"domain\":{\"x\":[0.0,1.0],\"y\":[0.0,1.0]},\"hovertemplate\":\"DEATH_EVENT=%{label}<extra></extra>\",\"labels\":[1,1,1,1,1,1,1,1,1,1,1,1,1,1,0,1,1,1,1,1,0,1,1,0,1,1,1,1,1,1,1,1,1,0,1,1,1,1,0,1,1,1,1,0,1,1,1,1,1,1,1,1,1,1,1,1,0,0,1,1,1,1,0,1,0,1,1,1,1,1,0,0,1,0,1,1,0,0,0,0,0,0,1,0,1,0,0,0,0,0,0,0,0,1,0,0,0,0,0,0,0,0,0,0,0,1,0,0,0,0,1,0,0,1,0,0,0,0,0,1,0,0,0,0,1,0,1,0,0,0,0,0,0,0,0,0,0,0,0,0,1,0,0,0,1,0,0,0,1,0,1,0,0,0,0,0,0,0,0,0,0,0,0,1,1,1,0,1,0,0,0,0,0,0,0,0,0,0,0,0,0,1,1,1,1,1,1,1,0,0,0,0,0,0,1,1,0,0,0,0,0,0,0,0,0,0,0,0,0,0,0,0,0,1,0,0,0,1,0,0,1,0,0,0,0,0,0,0,0,0,1,0,0,0,0,0,0,0,0,0,0,0,0,0,0,0,1,0,0,0,0,0,0,0,0,0,0,0,0,0,0,0,1,0,0,0,1,0,0,0,0,0,0,0,0,0,0,0,0,0,0,0,0,0,0,0,0,0,0,0,0,0,0,0,0,0,0,0,0],\"legendgroup\":\"\",\"name\":\"\",\"showlegend\":true,\"type\":\"pie\"}],                        {\"template\":{\"data\":{\"bar\":[{\"error_x\":{\"color\":\"#2a3f5f\"},\"error_y\":{\"color\":\"#2a3f5f\"},\"marker\":{\"line\":{\"color\":\"#E5ECF6\",\"width\":0.5},\"pattern\":{\"fillmode\":\"overlay\",\"size\":10,\"solidity\":0.2}},\"type\":\"bar\"}],\"barpolar\":[{\"marker\":{\"line\":{\"color\":\"#E5ECF6\",\"width\":0.5},\"pattern\":{\"fillmode\":\"overlay\",\"size\":10,\"solidity\":0.2}},\"type\":\"barpolar\"}],\"carpet\":[{\"aaxis\":{\"endlinecolor\":\"#2a3f5f\",\"gridcolor\":\"white\",\"linecolor\":\"white\",\"minorgridcolor\":\"white\",\"startlinecolor\":\"#2a3f5f\"},\"baxis\":{\"endlinecolor\":\"#2a3f5f\",\"gridcolor\":\"white\",\"linecolor\":\"white\",\"minorgridcolor\":\"white\",\"startlinecolor\":\"#2a3f5f\"},\"type\":\"carpet\"}],\"choropleth\":[{\"colorbar\":{\"outlinewidth\":0,\"ticks\":\"\"},\"type\":\"choropleth\"}],\"contour\":[{\"colorbar\":{\"outlinewidth\":0,\"ticks\":\"\"},\"colorscale\":[[0.0,\"#0d0887\"],[0.1111111111111111,\"#46039f\"],[0.2222222222222222,\"#7201a8\"],[0.3333333333333333,\"#9c179e\"],[0.4444444444444444,\"#bd3786\"],[0.5555555555555556,\"#d8576b\"],[0.6666666666666666,\"#ed7953\"],[0.7777777777777778,\"#fb9f3a\"],[0.8888888888888888,\"#fdca26\"],[1.0,\"#f0f921\"]],\"type\":\"contour\"}],\"contourcarpet\":[{\"colorbar\":{\"outlinewidth\":0,\"ticks\":\"\"},\"type\":\"contourcarpet\"}],\"heatmap\":[{\"colorbar\":{\"outlinewidth\":0,\"ticks\":\"\"},\"colorscale\":[[0.0,\"#0d0887\"],[0.1111111111111111,\"#46039f\"],[0.2222222222222222,\"#7201a8\"],[0.3333333333333333,\"#9c179e\"],[0.4444444444444444,\"#bd3786\"],[0.5555555555555556,\"#d8576b\"],[0.6666666666666666,\"#ed7953\"],[0.7777777777777778,\"#fb9f3a\"],[0.8888888888888888,\"#fdca26\"],[1.0,\"#f0f921\"]],\"type\":\"heatmap\"}],\"heatmapgl\":[{\"colorbar\":{\"outlinewidth\":0,\"ticks\":\"\"},\"colorscale\":[[0.0,\"#0d0887\"],[0.1111111111111111,\"#46039f\"],[0.2222222222222222,\"#7201a8\"],[0.3333333333333333,\"#9c179e\"],[0.4444444444444444,\"#bd3786\"],[0.5555555555555556,\"#d8576b\"],[0.6666666666666666,\"#ed7953\"],[0.7777777777777778,\"#fb9f3a\"],[0.8888888888888888,\"#fdca26\"],[1.0,\"#f0f921\"]],\"type\":\"heatmapgl\"}],\"histogram\":[{\"marker\":{\"pattern\":{\"fillmode\":\"overlay\",\"size\":10,\"solidity\":0.2}},\"type\":\"histogram\"}],\"histogram2d\":[{\"colorbar\":{\"outlinewidth\":0,\"ticks\":\"\"},\"colorscale\":[[0.0,\"#0d0887\"],[0.1111111111111111,\"#46039f\"],[0.2222222222222222,\"#7201a8\"],[0.3333333333333333,\"#9c179e\"],[0.4444444444444444,\"#bd3786\"],[0.5555555555555556,\"#d8576b\"],[0.6666666666666666,\"#ed7953\"],[0.7777777777777778,\"#fb9f3a\"],[0.8888888888888888,\"#fdca26\"],[1.0,\"#f0f921\"]],\"type\":\"histogram2d\"}],\"histogram2dcontour\":[{\"colorbar\":{\"outlinewidth\":0,\"ticks\":\"\"},\"colorscale\":[[0.0,\"#0d0887\"],[0.1111111111111111,\"#46039f\"],[0.2222222222222222,\"#7201a8\"],[0.3333333333333333,\"#9c179e\"],[0.4444444444444444,\"#bd3786\"],[0.5555555555555556,\"#d8576b\"],[0.6666666666666666,\"#ed7953\"],[0.7777777777777778,\"#fb9f3a\"],[0.8888888888888888,\"#fdca26\"],[1.0,\"#f0f921\"]],\"type\":\"histogram2dcontour\"}],\"mesh3d\":[{\"colorbar\":{\"outlinewidth\":0,\"ticks\":\"\"},\"type\":\"mesh3d\"}],\"parcoords\":[{\"line\":{\"colorbar\":{\"outlinewidth\":0,\"ticks\":\"\"}},\"type\":\"parcoords\"}],\"pie\":[{\"automargin\":true,\"type\":\"pie\"}],\"scatter\":[{\"marker\":{\"colorbar\":{\"outlinewidth\":0,\"ticks\":\"\"}},\"type\":\"scatter\"}],\"scatter3d\":[{\"line\":{\"colorbar\":{\"outlinewidth\":0,\"ticks\":\"\"}},\"marker\":{\"colorbar\":{\"outlinewidth\":0,\"ticks\":\"\"}},\"type\":\"scatter3d\"}],\"scattercarpet\":[{\"marker\":{\"colorbar\":{\"outlinewidth\":0,\"ticks\":\"\"}},\"type\":\"scattercarpet\"}],\"scattergeo\":[{\"marker\":{\"colorbar\":{\"outlinewidth\":0,\"ticks\":\"\"}},\"type\":\"scattergeo\"}],\"scattergl\":[{\"marker\":{\"colorbar\":{\"outlinewidth\":0,\"ticks\":\"\"}},\"type\":\"scattergl\"}],\"scattermapbox\":[{\"marker\":{\"colorbar\":{\"outlinewidth\":0,\"ticks\":\"\"}},\"type\":\"scattermapbox\"}],\"scatterpolar\":[{\"marker\":{\"colorbar\":{\"outlinewidth\":0,\"ticks\":\"\"}},\"type\":\"scatterpolar\"}],\"scatterpolargl\":[{\"marker\":{\"colorbar\":{\"outlinewidth\":0,\"ticks\":\"\"}},\"type\":\"scatterpolargl\"}],\"scatterternary\":[{\"marker\":{\"colorbar\":{\"outlinewidth\":0,\"ticks\":\"\"}},\"type\":\"scatterternary\"}],\"surface\":[{\"colorbar\":{\"outlinewidth\":0,\"ticks\":\"\"},\"colorscale\":[[0.0,\"#0d0887\"],[0.1111111111111111,\"#46039f\"],[0.2222222222222222,\"#7201a8\"],[0.3333333333333333,\"#9c179e\"],[0.4444444444444444,\"#bd3786\"],[0.5555555555555556,\"#d8576b\"],[0.6666666666666666,\"#ed7953\"],[0.7777777777777778,\"#fb9f3a\"],[0.8888888888888888,\"#fdca26\"],[1.0,\"#f0f921\"]],\"type\":\"surface\"}],\"table\":[{\"cells\":{\"fill\":{\"color\":\"#EBF0F8\"},\"line\":{\"color\":\"white\"}},\"header\":{\"fill\":{\"color\":\"#C8D4E3\"},\"line\":{\"color\":\"white\"}},\"type\":\"table\"}]},\"layout\":{\"annotationdefaults\":{\"arrowcolor\":\"#2a3f5f\",\"arrowhead\":0,\"arrowwidth\":1},\"autotypenumbers\":\"strict\",\"coloraxis\":{\"colorbar\":{\"outlinewidth\":0,\"ticks\":\"\"}},\"colorscale\":{\"diverging\":[[0,\"#8e0152\"],[0.1,\"#c51b7d\"],[0.2,\"#de77ae\"],[0.3,\"#f1b6da\"],[0.4,\"#fde0ef\"],[0.5,\"#f7f7f7\"],[0.6,\"#e6f5d0\"],[0.7,\"#b8e186\"],[0.8,\"#7fbc41\"],[0.9,\"#4d9221\"],[1,\"#276419\"]],\"sequential\":[[0.0,\"#0d0887\"],[0.1111111111111111,\"#46039f\"],[0.2222222222222222,\"#7201a8\"],[0.3333333333333333,\"#9c179e\"],[0.4444444444444444,\"#bd3786\"],[0.5555555555555556,\"#d8576b\"],[0.6666666666666666,\"#ed7953\"],[0.7777777777777778,\"#fb9f3a\"],[0.8888888888888888,\"#fdca26\"],[1.0,\"#f0f921\"]],\"sequentialminus\":[[0.0,\"#0d0887\"],[0.1111111111111111,\"#46039f\"],[0.2222222222222222,\"#7201a8\"],[0.3333333333333333,\"#9c179e\"],[0.4444444444444444,\"#bd3786\"],[0.5555555555555556,\"#d8576b\"],[0.6666666666666666,\"#ed7953\"],[0.7777777777777778,\"#fb9f3a\"],[0.8888888888888888,\"#fdca26\"],[1.0,\"#f0f921\"]]},\"colorway\":[\"#636efa\",\"#EF553B\",\"#00cc96\",\"#ab63fa\",\"#FFA15A\",\"#19d3f3\",\"#FF6692\",\"#B6E880\",\"#FF97FF\",\"#FECB52\"],\"font\":{\"color\":\"#2a3f5f\"},\"geo\":{\"bgcolor\":\"white\",\"lakecolor\":\"white\",\"landcolor\":\"#E5ECF6\",\"showlakes\":true,\"showland\":true,\"subunitcolor\":\"white\"},\"hoverlabel\":{\"align\":\"left\"},\"hovermode\":\"closest\",\"mapbox\":{\"style\":\"light\"},\"paper_bgcolor\":\"white\",\"plot_bgcolor\":\"#E5ECF6\",\"polar\":{\"angularaxis\":{\"gridcolor\":\"white\",\"linecolor\":\"white\",\"ticks\":\"\"},\"bgcolor\":\"#E5ECF6\",\"radialaxis\":{\"gridcolor\":\"white\",\"linecolor\":\"white\",\"ticks\":\"\"}},\"scene\":{\"xaxis\":{\"backgroundcolor\":\"#E5ECF6\",\"gridcolor\":\"white\",\"gridwidth\":2,\"linecolor\":\"white\",\"showbackground\":true,\"ticks\":\"\",\"zerolinecolor\":\"white\"},\"yaxis\":{\"backgroundcolor\":\"#E5ECF6\",\"gridcolor\":\"white\",\"gridwidth\":2,\"linecolor\":\"white\",\"showbackground\":true,\"ticks\":\"\",\"zerolinecolor\":\"white\"},\"zaxis\":{\"backgroundcolor\":\"#E5ECF6\",\"gridcolor\":\"white\",\"gridwidth\":2,\"linecolor\":\"white\",\"showbackground\":true,\"ticks\":\"\",\"zerolinecolor\":\"white\"}},\"shapedefaults\":{\"line\":{\"color\":\"#2a3f5f\"}},\"ternary\":{\"aaxis\":{\"gridcolor\":\"white\",\"linecolor\":\"white\",\"ticks\":\"\"},\"baxis\":{\"gridcolor\":\"white\",\"linecolor\":\"white\",\"ticks\":\"\"},\"bgcolor\":\"#E5ECF6\",\"caxis\":{\"gridcolor\":\"white\",\"linecolor\":\"white\",\"ticks\":\"\"}},\"title\":{\"x\":0.05},\"xaxis\":{\"automargin\":true,\"gridcolor\":\"white\",\"linecolor\":\"white\",\"ticks\":\"\",\"title\":{\"standoff\":15},\"zerolinecolor\":\"white\",\"zerolinewidth\":2},\"yaxis\":{\"automargin\":true,\"gridcolor\":\"white\",\"linecolor\":\"white\",\"ticks\":\"\",\"title\":{\"standoff\":15},\"zerolinecolor\":\"white\",\"zerolinewidth\":2}}},\"legend\":{\"tracegroupgap\":0},\"title\":{\"text\":\"Distribution of Patient Death Events\"},\"height\":400,\"width\":600},                        {\"responsive\": true}                    ).then(function(){\n",
       "                            \n",
       "var gd = document.getElementById('37774668-2a1d-41fe-bf5e-e80de0af0be5');\n",
       "var x = new MutationObserver(function (mutations, observer) {{\n",
       "        var display = window.getComputedStyle(gd).display;\n",
       "        if (!display || display === 'none') {{\n",
       "            console.log([gd, 'removed!']);\n",
       "            Plotly.purge(gd);\n",
       "            observer.disconnect();\n",
       "        }}\n",
       "}});\n",
       "\n",
       "// Listen for the removal of the full notebook cells\n",
       "var notebookContainer = gd.closest('#notebook-container');\n",
       "if (notebookContainer) {{\n",
       "    x.observe(notebookContainer, {childList: true});\n",
       "}}\n",
       "\n",
       "// Listen for the clearing of the current output cell\n",
       "var outputEl = gd.closest('.output');\n",
       "if (outputEl) {{\n",
       "    x.observe(outputEl, {childList: true});\n",
       "}}\n",
       "\n",
       "                        })                };                });            </script>        </div>"
      ]
     },
     "metadata": {},
     "output_type": "display_data"
    }
   ],
   "source": [
    "import plotly.express as px\n",
    "fig = px.pie(data, names='DEATH_EVENT', title='Distribution of Patient Death Events',width=600,height=400)\n",
    "fig.show()"
   ]
  },
  {
   "cell_type": "markdown",
   "id": "a92ca0c4",
   "metadata": {},
   "source": [
    "#### CORRELATION HEATMAP"
   ]
  },
  {
   "cell_type": "code",
   "execution_count": 62,
   "id": "802e24e9",
   "metadata": {},
   "outputs": [
    {
     "data": {
      "image/png": "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\n",
      "text/plain": [
       "<Figure size 1080x1080 with 2 Axes>"
      ]
     },
     "metadata": {
      "needs_background": "light"
     },
     "output_type": "display_data"
    }
   ],
   "source": [
    "corr = data.corr()\n",
    "ax,fig = plt.subplots(figsize=(15,15))\n",
    "seaborn.heatmap(corr,vmin=-1,cmap='coolwarm',annot=True)\n",
    "plt.show()"
   ]
  },
  {
   "cell_type": "code",
   "execution_count": 63,
   "id": "733dd474",
   "metadata": {},
   "outputs": [
    {
     "data": {
      "text/plain": [
       "age                  0.251058\n",
       "ejection_fraction   -0.268821\n",
       "serum_creatinine     0.294278\n",
       "serum_sodium        -0.193659\n",
       "time                -0.524198\n",
       "DEATH_EVENT          1.000000\n",
       "Name: DEATH_EVENT, dtype: float64"
      ]
     },
     "execution_count": 63,
     "metadata": {},
     "output_type": "execute_result"
    }
   ],
   "source": [
    "corr[abs(corr['DEATH_EVENT'])>0.1]['DEATH_EVENT']"
   ]
  },
  {
   "cell_type": "markdown",
   "id": "359f9ac1",
   "metadata": {},
   "source": [
    "> The features age, ejection_fraction, serum_creatine, serum_sodium and time have a considerable correlation with DEATH_EVENT."
   ]
  },
  {
   "cell_type": "markdown",
   "id": "cdea2f99",
   "metadata": {},
   "source": [
    "### MODEL TRAINING AND PREDICTION"
   ]
  },
  {
   "cell_type": "code",
   "execution_count": 64,
   "id": "8ee93eb4",
   "metadata": {},
   "outputs": [],
   "source": [
    "X = data[['ejection_fraction','serum_creatinine','serum_sodium','time']]\n",
    "X = (X-X.mean())/X.std()\n",
    "y = data['DEATH_EVENT']"
   ]
  },
  {
   "cell_type": "code",
   "execution_count": 67,
   "id": "f0461665",
   "metadata": {},
   "outputs": [],
   "source": [
    "scaler = MinMaxScaler()\n",
    "X = scaler.fit_transform(X)\n"
   ]
  },
  {
   "cell_type": "code",
   "execution_count": 68,
   "id": "8bc84842",
   "metadata": {},
   "outputs": [],
   "source": [
    "# Splitting data into training and testing data\n",
    "X_train,X_test,y_train,y_test=train_test_split(X,y,random_state=1,test_size=0.2)"
   ]
  },
  {
   "cell_type": "markdown",
   "id": "597c297d",
   "metadata": {},
   "source": [
    "#### LOGISTIC REGRESSION"
   ]
  },
  {
   "cell_type": "code",
   "execution_count": 70,
   "id": "7092938e",
   "metadata": {},
   "outputs": [
    {
     "name": "stdout",
     "output_type": "stream",
     "text": [
      "Logistic Regression Succeses Rate : 88.33%\n"
     ]
    },
    {
     "data": {
      "text/plain": [
       "<sklearn.metrics._plot.confusion_matrix.ConfusionMatrixDisplay at 0x1bc8bd8ae20>"
      ]
     },
     "execution_count": 70,
     "metadata": {},
     "output_type": "execute_result"
    },
    {
     "data": {
      "image/png": "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\n",
      "text/plain": [
       "<Figure size 432x288 with 2 Axes>"
      ]
     },
     "metadata": {
      "needs_background": "light"
     },
     "output_type": "display_data"
    }
   ],
   "source": [
    "lr = LogisticRegression(max_iter=10000)\n",
    "lr.fit(X_train,y_train)\n",
    "predictions=lr.predict(X_test)\n",
    "success_rate=accuracy_score(y_test,predictions)\n",
    "print(\"Logistic Regression Succeses Rate :\", \"{:.2f}%\".format(100*success_rate))\n",
    "cm = confusion_matrix(y_test,predictions,labels=lr.classes_)\n",
    "disp = ConfusionMatrixDisplay(confusion_matrix=cm,display_labels=lr.classes_)\n",
    "disp.plot()"
   ]
  },
  {
   "cell_type": "markdown",
   "id": "b0d12849",
   "metadata": {},
   "source": [
    "### Scaling"
   ]
  },
  {
   "cell_type": "code",
   "execution_count": 71,
   "id": "2563bc1d",
   "metadata": {},
   "outputs": [],
   "source": [
    "scaler = MinMaxScaler()\n",
    "data['scaled_ejection_fraction'] = scaler.fit_transform(data[['ejection_fraction']])\n",
    "data['scaled_serum_creatinine'] = scaler.fit_transform(data[['serum_creatinine']])"
   ]
  },
  {
   "cell_type": "markdown",
   "id": "72569129",
   "metadata": {},
   "source": [
    " ### Kmeans"
   ]
  },
  {
   "cell_type": "code",
   "execution_count": 72,
   "id": "1b01182c",
   "metadata": {},
   "outputs": [
    {
     "data": {
      "image/png": "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\n",
      "text/plain": [
       "<Figure size 432x288 with 1 Axes>"
      ]
     },
     "metadata": {
      "needs_background": "light"
     },
     "output_type": "display_data"
    }
   ],
   "source": [
    "k_rng = range(1,10)\n",
    "sse = []\n",
    "\n",
    "for k in k_rng:\n",
    "    kmeans = KMeans(n_clusters = k)\n",
    "    kmeans.fit(data[['scaled_serum_creatinine','scaled_ejection_fraction','DEATH_EVENT']])\n",
    "    sse.append(kmeans.inertia_)\n",
    "    \n",
    "plt.plot(k_rng, sse)\n",
    "plt.title(\"The Elbow Method\")\n",
    "plt.xlabel(\"Number of clusters\")\n",
    "plt.ylabel(\"Sum of Squared Error\")\n",
    "plt.show()"
   ]
  },
  {
   "cell_type": "code",
   "execution_count": 73,
   "id": "c25a7bbc",
   "metadata": {},
   "outputs": [
    {
     "data": {
      "text/plain": [
       "<matplotlib.legend.Legend at 0x1bc8e4de4f0>"
      ]
     },
     "execution_count": 73,
     "metadata": {},
     "output_type": "execute_result"
    },
    {
     "data": {
      "image/png": "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\n",
      "text/plain": [
       "<Figure size 864x576 with 1 Axes>"
      ]
     },
     "metadata": {
      "needs_background": "light"
     },
     "output_type": "display_data"
    }
   ],
   "source": [
    "km = KMeans(n_clusters = 2)\n",
    "y_predicted = km.fit_predict(data[['scaled_serum_creatinine','scaled_ejection_fraction']])\n",
    "data['cluster'] = y_predicted\n",
    "plt.figure(figsize=(12,8))\n",
    "data_c1 = data[data.cluster == 0]\n",
    "data_c2 = data[data.cluster == 1]\n",
    "plt.scatter(data_c1.loc[data_c1['DEATH_EVENT'] == 0]['scaled_serum_creatinine'],data_c1.loc[data_c1['DEATH_EVENT'] == 0]['scaled_ejection_fraction'],color='darkgreen',marker='o',label='C1 survived')\n",
    "plt.scatter(data_c1.loc[data_c1['DEATH_EVENT'] == 1]['scaled_serum_creatinine'],data_c1.loc[data_c1['DEATH_EVENT'] == 1]['scaled_ejection_fraction'],color='salmon',marker='x',label='C1 dead')\n",
    "plt.scatter(data_c2.loc[data_c2['DEATH_EVENT'] == 0]['scaled_serum_creatinine'],data_c2.loc[data_c2['DEATH_EVENT'] == 0]['scaled_ejection_fraction'],color='limegreen',marker='o',label='C2 survived')\n",
    "plt.scatter(data_c2.loc[data_c2['DEATH_EVENT'] == 1]['scaled_serum_creatinine'],data_c2.loc[data_c2['DEATH_EVENT'] == 1]['scaled_ejection_fraction'],color='red',marker='x',label='C2 dead')\n",
    "plt.xlabel(\"Serum Creatinine\")\n",
    "plt.ylabel(\"Ejection Fraction\")\n",
    "plt.legend()\n"
   ]
  },
  {
   "cell_type": "code",
   "execution_count": null,
   "id": "1bcdccd8",
   "metadata": {},
   "outputs": [],
   "source": []
  }
 ],
 "metadata": {
  "kernelspec": {
   "display_name": "Python 3 (ipykernel)",
   "language": "python",
   "name": "python3"
  },
  "language_info": {
   "codemirror_mode": {
    "name": "ipython",
    "version": 3
   },
   "file_extension": ".py",
   "mimetype": "text/x-python",
   "name": "python",
   "nbconvert_exporter": "python",
   "pygments_lexer": "ipython3",
   "version": "3.8.5"
  }
 },
 "nbformat": 4,
 "nbformat_minor": 5
}
